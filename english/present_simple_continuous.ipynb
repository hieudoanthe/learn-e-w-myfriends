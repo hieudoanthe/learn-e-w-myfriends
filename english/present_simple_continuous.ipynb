{
 "cells": [
  {
   "cell_type": "markdown",
   "metadata": {},
   "source": [
    "# ***Sentence Structure***\n",
    "\n"
   ]
  },
  {
   "cell_type": "markdown",
   "metadata": {},
   "source": [
    "=> S + V + O"
   ]
  },
  {
   "cell_type": "markdown",
   "metadata": {},
   "source": [
    "# ***V: Tobe/ do***\n",
    "\n"
   ]
  },
  {
   "cell_type": "markdown",
   "metadata": {},
   "source": [
    "## **Tobe**\n",
    "1. Thoi gian, thoi tiet, dia diem, tuoi\n",
    "2. So luong\n",
    "3. Tinh chat  \n",
    "   **Example:**    \n",
    "        I am 21 years old  \n",
    "        I am in the room  \n",
    "        I am a poor guy  \n",
    "        There are 5 peoples  \n",
    "        This is the my house  \n",
    "=> S + tobe + O (Adj, ...)\n",
    "Ngoi thu 1: I + am, we + are  \n",
    "Ngoi thu 2: you + are  \n",
    "Ngoi thu 3: they + are, she + is, he + is, it + is  \n",
    "\n",
    "## **Do**  \n",
    "    -Tro Dong Tu-  \n",
    "She, he, it + does   \n",
    "1. => Bo nghia cho dong tu  \n",
    "    **Example**:  \n",
    "            Van do love Nguyet   \n",
    "2. => Co nghia la \"Lam\"  \n",
    "    **Example**:    \n",
    "        do your best  \n",
    "        do exercise  \n",
    "        do my homework  \n",
    "    \n",
    "#### **Assignment**\n",
    "\n",
    "1. It (is) great to have some time to drink.\n",
    "2. (Does) he give you what you want?\n",
    "3. (Is) it cold today?\n",
    "4. (Do) you remember my birthday?\n",
    "5. I ('m) at home."
   ]
  },
  {
   "cell_type": "markdown",
   "metadata": {},
   "source": [
    "# ***Present Simple Sentences***"
   ]
  },
  {
   "cell_type": "markdown",
   "metadata": {},
   "source": [
    "### ***Tobe*** \n",
    "(+)  \n",
    "+  I + am  \n",
    "+  He, she, it (ngoi 3 so it) + is\n",
    "+  We, they, you + are  \n",
    "  \n",
    "(-)   \n",
    "+ ... not  \n",
    "    Ex: I'm not student.  \n",
    "        He is'nt coder.  \n",
    "\n",
    "(?)\n",
    "+ Tobe(not) + S + ...\n",
    "### ***To verb***\n",
    "(+)  \n",
    "+ I, you, we, they + V\n",
    "+ He, she, it (ngoi 3 so it) + V_s/es  \n",
    "\n",
    "(-)  \n",
    "+ I, you, we, the + do not + V  \n",
    "+ He, she, it (ngoi 3 so it) + does not + V  \n",
    "  \n",
    "(?)  \n",
    "+ Do/ does(not) + S + V + ...  \n",
    "\n",
    "### Dau Hieu Nhan Biet:  \n",
    "1. Chi tan suat, thoi quen (usually, often, *always, ...): I often play games, I always reply message of...\n",
    "2. Quan diem, y kien (*think, in my opinion, ...): It's not good for you.\n",
    "3. Su that hien: Ice is very cold, The sun rises in the east.  \n",
    "\n"
   ]
  },
  {
   "cell_type": "markdown",
   "metadata": {},
   "source": [
    "# ***Persent Continuous Sentences***"
   ]
  },
  {
   "cell_type": "markdown",
   "metadata": {},
   "source": [
    "(+)  \n",
    "+ S + tobe + V_ing  \n",
    "  \n",
    "(-)  \n",
    "+ Them 'not' sau 'tobe'  \n",
    "\n",
    "(?)\n",
    "+ Tobe(not) + S + V_ing\n",
    "\n",
    "### Dau Hieu Nhan Biet: \n",
    "1. *always: S + tobe + always + V_ing => The hien mot thai do, phan nan,...: Van is always talking about his girlfriend.\n",
    "2. Chi 1 HD dang xay ra (now, right now, at the moment,...)\n",
    "3. HD xay ra thi co 1 HD khac xen vao => Thuong dung sau 'when': They leave when we are having lunch/dinner.  \n",
    "4. Dung cho dong tu manh: Hey!, Look!, Listen!, Excuse me,...  \n",
    "\n",
    "#### **Assignment**  \n",
    "1. She usually (works)[work] in London, but at the moment she (is doing)[do] a training course in Hanoi.\n",
    "2. He (tries)[try] very hard in every game that he (plays)[play].\n",
    "3. Excuse me, I think that you (are sitting)[sit] on my seat.\n",
    "4. It (doesn't get)[not/get] dark this time of the year until about 10 o'clock.\n",
    "5. What are you doing?  \n",
    "   I (am baking)[bake] a cake. Why (are you smiling)[you/smile]?\n",
    "   (Am I doing)[do/I] something wrong?  \n",
    "   "
   ]
  },
  {
   "cell_type": "markdown",
   "metadata": {},
   "source": [
    "# ***Assignment***"
   ]
  },
  {
   "cell_type": "markdown",
   "metadata": {},
   "source": [
    "\n",
    "\n",
    "1. She (works)(work) as a teacher.\n",
    "2. They (play)(play) football every Saturday.\n",
    "3. He (doesn't like)(not/like) coffe.\n",
    "4. The sun (rises)(rise) in the east.\n",
    "5. We always (go)(go) to school buy bus.\n",
    "6. Van (doesn't have)(not/have) a car. But Nguyet has a car.\n",
    "7. (Do you live)(you/live) in this city?\n",
    "8. My parents (watch)(watch) TV every evening.\n",
    "9. (Does he play)(he/play) tennis on Sunday?\n",
    "10. The train (leaves)(leave) at 7 o'clock every morning.\n",
    "11. She (is studying)(study) for her exams right now.\n",
    "12. They (are playing)(play) football in the park at the moment.\n",
    "13. It (is raining)(rain) heavily outside.\n",
    "14. I (am nor working)(not/work) this week because I am on Vacation.\n",
    "15. We (are waiting)(wait) for the bus now.\n",
    "16. (Are you watching)(you/watch) the movie currently?\n",
    "17. He (is sleeping)(is/sleep) in this room right now.\n",
    "18. My friends (are having)(have) lunch together at the momnent.\n",
    "19. The children (aren't playing)(not/play) outside because it is raining.\n",
    "20. (Is he talking)(he/talk) to his boss right now?\n",
    "21. He usually (goes)(go) to work by bus, but to day he (is driving)(drive) his car.\n",
    "22. I (don't like)(not/like) coffe, but I (am drinking)(drink) some now becasue I am very tired.\n",
    "23. She (visits)(visit) her grandmother every weekend, but to day she (is staying)(stay) at home.\n",
    "    \n"
   ]
  }
 ],
 "metadata": {
  "language_info": {
   "name": "python"
  }
 },
 "nbformat": 4,
 "nbformat_minor": 2
}
