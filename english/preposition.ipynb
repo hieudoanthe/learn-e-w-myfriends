{
 "cells": [
  {
   "cell_type": "markdown",
   "metadata": {},
   "source": [
    "Gioi tu de lien ket mot N hoac dai tu voi cac thanh phan khac trong cau  \n",
    "\n",
    "Ex: My birthday is in August."
   ]
  },
  {
   "cell_type": "markdown",
   "metadata": {},
   "source": [
    "# ***Chi thoi gian***"
   ]
  },
  {
   "cell_type": "markdown",
   "metadata": {},
   "source": [
    "At, in, on, before, after, during, until, for, since,...  \n",
    "\n",
    "+) IN: \n",
    "\n",
    "1. Thang hoac nam  : Nam's birthday is in July.  \n",
    "2. Mua  : In spring, flowers blossom because of you.  \n",
    "3. Thap ki, the ki  : Van was borned in the 21th century.  \n",
    "4. Buoi sang, chieu, toi  : Let's have a picnic in the morning.  \n",
    "5. Thoi gian trong tuong lai  : Nam will call Van back in an hour.  \n",
    "\n",
    "+) AT:  \n",
    "\n",
    "1. Moc thoi gian cu the trong ngay:  The following day, we will go to scholl at 6am.  \n",
    "2. Chi thoi gian vao ben dem, buoi trua: I usually have breakfast at noon.  \n",
    "3. Cac dip dac biet, dip le: Many families get together at the holiday.  \n",
    "   \n",
    "+) ON:  \n",
    "\n",
    "1. Thu trong tuan: Van has a meeting on Tuesday.  \n",
    "2. Ngay le, dip dac biet:  \n",
    "3. Ngay va thang di cung nhau:  The Cam movie had released on September 22th.  \n",
    "\n",
    "+) BEFORE:  \n",
    "\n",
    "1. Truoc 1 khoang thoi gian nao do  \n",
    "\n",
    "+) AFTER: \n",
    "\n",
    "1. Sau 1 khoang thoi gian nao do  : The movie starts after 7 PM.  \n",
    "\n",
    "+) During:\n",
    "\n",
    "1. Trong 1 khoang thoi gian: They had a lot of fun during the summer vacation. \n",
    "\n",
    "+)  FOR, SINCE, TILL, UNTIL \n",
    "\n",
    "+) AGO:\n",
    "\n",
    "1. Chi khoang thoi gian da troi qua:  I met him two years ago.  \n",
    "\n",
    "+) WITHIN:  \n",
    "\n",
    "1. Hanh dong dien ra trong mot khoang thoi gian: Please complete the project within two weeks.  \n"
   ]
  },
  {
   "cell_type": "markdown",
   "metadata": {},
   "source": [
    "# ***Chi dia diem***"
   ]
  },
  {
   "cell_type": "markdown",
   "metadata": {},
   "source": [
    "At, in, on, under: ben duoi, beside: ben canh, among: o giua, above: ben tren, below: ben duoi, behind:: phia sau, across: doi dien,  \n",
    "in front of: phia truoc  \n",
    "\n",
    "+) IN:  \n",
    "\n",
    "1. Cac dia diem cu the: Van lives in Hung Yen Province.  \n",
    "2. Phuong huong: The sun sets in the west.    \n",
    "3. Phuong tien: Van will go to school in a plain.    \n",
    "4. Vi tri ben trong khong gian: Nam has a picnic in the Yen So Park.    \n",
    "\n",
    "+) AT: \n",
    "\n",
    "1. Dia chi nha: Nam's waiting for Van at 218 Linh Nam Street.  \n",
    "2. Dia diem xac dinh cu the: Yesterday, I had eaten rice in the night at my house.  \n",
    "3. Noi hoc tap hoac lam viec:   \n",
    "\n",
    "+) ON:  \n",
    "\n",
    "1. Cum tu chi vi tri: enemies are on the left of the street, just after the wall. \n",
    "2. Chi phuong tien di lai: Van met Nam on the train.  \n",
    "3. Tang nha: Nam's room is located on the second floor.  \n",
    "4. Vi tri tren be mat: The keys are on the table.  \n",
    "\n"
   ]
  },
  {
   "cell_type": "markdown",
   "metadata": {},
   "source": [
    "# ***Chi phuong huong***"
   ]
  },
  {
   "cell_type": "markdown",
   "metadata": {},
   "source": [
    "To: Di chuyen den 1 dia diem  \n",
    ", from: Chi dia diem xuat phat  \n",
    ", into: chuyen dong ben trong 1 doi tuong  \n",
    ", onto: di chuyen den mot diem cao hon  \n",
    ", out of: chuyen dong tu trong ra ngoai cua mot doi tuong  \n",
    ", towards:  mo ta huong di chuyen  \n",
    ", away from: di chuyen ra xa, tranh ra khoi  \n",
    ", across: chuyen dong tu phia ben nay sang ben kia  \n",
    ", through: di chuyen xuyen qua  \n",
    ", along: di chuyen doc theo doi tuong  \n",
    ", up: di chuyen len  \n",
    ", down: di chuyen xuong \n",
    ", forward: hanh dong di chuyen tien ve phia truoc hoac tien len\n",
    "\n",
    "Ex: Van took a step forward, Nam took the remaining 999 steps.  "
   ]
  },
  {
   "cell_type": "markdown",
   "metadata": {},
   "source": [
    "# ***Mot so loai hinh thuc cua gioi tu + chu y*** "
   ]
  },
  {
   "cell_type": "markdown",
   "metadata": {},
   "source": [
    "1. According to: Theo (ai do hoac cai gi do)  \n",
    "2. Because of: Boi vi, do  -> Because of the fact that\n",
    "3. In spite of: Mac du  \n",
    "4. Despite: Mac du\n",
    "5. Due to: Do, boi vi  \n",
    "6. On behalf of: Thay mat cho  \n",
    "7. In front of: O phia truoc  \n",
    "8. In addition: Ngoai ra, them vao  \n",
    "9. In comparison with: So sanh voi  \n",
    "10. In order to: De, de co the  \n",
    "11. In respones to: Dap lai, dap ung  \n",
    "\n",
    "### Chu y:\n",
    "\n",
    "On time: Dung gio  \n",
    "In time: Kip luc  \n",
    "In the end: Cuoi cung  \n",
    "At the end(of sth): Thoi diem ket thuc cua su viec gi do  \n",
    "Beside: Ben canh  \n",
    "Besides: Ngoai ra, them vao do  "
   ]
  }
 ],
 "metadata": {
  "language_info": {
   "name": "python"
  }
 },
 "nbformat": 4,
 "nbformat_minor": 2
}
