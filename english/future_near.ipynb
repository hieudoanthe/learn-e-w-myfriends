{
 "cells": [
  {
   "cell_type": "markdown",
   "metadata": {},
   "source": [
    "# ***The near future***"
   ]
  },
  {
   "cell_type": "markdown",
   "metadata": {},
   "source": [
    "+) S + am/is/are + going to + V + O  \n",
    "\n",
    "-) S + tobe (not) + going to + V  \n",
    "\n",
    "?) Tobe(not) + S + going to + V + O\n",
    "\n",
    "WHQ?) WHQ + Tobe + S + going to + V + O  \n",
    "\n",
    "### Dau Hieu Nhan Biet: \n",
    "1. Dien ta du dinh se lam gi do, mot ke hoach trong tuong lai gan  \n",
    "    Ex: I know that what you are going to say.  \n",
    "        Van is going to get married this year.  \n",
    "2. Dien ta mot dong chuan bi xay ra trong tuong lai gan - du doan co NGUYEN NHAN (CAN CU)\n",
    "    Ex: I think it is going to rain. Look at those clouds!\n",
    "        Van thinks Nam is going to sleep. Look at him tired!\n",
    "3. Next month, next year, 2 weeks later, this year,..."
   ]
  }
 ],
 "metadata": {
  "language_info": {
   "name": "python"
  }
 },
 "nbformat": 4,
 "nbformat_minor": 2
}
