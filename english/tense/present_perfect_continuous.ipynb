{
 "cells": [
  {
   "cell_type": "markdown",
   "metadata": {},
   "source": [
    "# ***Present Perfect Tense***"
   ]
  },
  {
   "cell_type": "markdown",
   "metadata": {},
   "source": [
    "+) S + have/has + V3/ed  \n",
    "\n",
    "-> He/ she/ it + has  \n",
    "\n",
    "-) S + have/has not + V3/ed \n",
    "\n",
    "?) Have/has + S + V3/ed  \n",
    "\n",
    "WHQ?) + have/has + S V3/ed   \n",
    "\n",
    "\n",
    "\n",
    "### Dau Hieu Nhan Biet: \n",
    "1. Dien ta mot hanh dong da hoan thanh cho toi thoi diem hien tai ma khong de cap toi no xay ra khi nao  \n",
    "   Ex: I have done my homeworks.  \n",
    "2. Dien ta 1 hanh dong, mot su viec bat dau tu trong qua khu, keo dai den hien tai co the tiep dien den tuong lai\n",
    "   Ex: Van has written a lot of books.  \n",
    "3. Noi den nhung kinh nghiem, trai nghiem cua mot ai do (so sanh hon nhat). \n",
    "   Ex: Nam has been to FS twice.  \n",
    "        This is first time Nam has read this story.  \n",
    "4. Dien ta nhung hanh dong xay ra tai thoi diem trong qua khu nhung de lai nhung dau hieu hay hau qua cua no co the thay ro o thoi diem hien tai.  \n",
    "   Ex: Many people have (died)(die) from YaGi Storm.  \n",
    "5. never, ever, just, already, yet, recently, so far, up to now, for + Khoang thoi gian, since + moc thoi gian.  \n",
    "    Ex: Since last year, Nam has been to Japan.  => Di de tro ve ( di va da tro ve roi)\n",
    "        Since last year, Nam has gone to Japan.  => Di roi nhung chua ve.  \n",
    "\n",
    "*** have/have been: nhan manh ve su trai nghiem thuong di voi so lan va so luong  \n",
    "    begin began begun  \n",
    "    come came come  \n",
    "    go went gone  \n",
    "    take toke token  \n",
    "\n",
    "\n"
   ]
  },
  {
   "cell_type": "markdown",
   "metadata": {},
   "source": [
    "# ***Present Perfect Continuous Tense***"
   ]
  },
  {
   "cell_type": "markdown",
   "metadata": {},
   "source": [
    "+)  S + have/has + been + Ving  \n",
    "\n",
    "-) S + have/has not + been + Ving  \n",
    "\n",
    "?) Have/has + S + been + Ving  \n",
    "\n",
    "WHQ?) + have/has + S + been + Ving  \n",
    "\n",
    "\n",
    "\n",
    "### Dau Hieu Nhan Biet: \n",
    "1. Dien ta mot su viec duoc bat dau o qua khu, dang tiep tuc o hien tai co the tiep dien den tuong lai nham nhan manh tinh lien tuc.  \n",
    "   Ex: I have been teaching this course for 2 hours.  \n",
    "2. Dien ta nhung hanh dong xay ra tai thoi diem trong qua khu nhung de lai nhung dau hieu hay hau qua cua no co the thay ro o thoi diem hien tai.  \n",
    "   Ex: I am very tired now because I have been trying hard LoL for 8 hours.  \n",
    "3. for + khoang thoi gian, since + moc thoi gian, for the whole + N( thoi gian ): trong khoang, all + thoi gian  \n",
    "   Ex: Van has been reading books for the whole day.  \n",
    "       Since Van came, Nam has been writing code.  \n",
    "       We have been working in the field all the morning.   \n",
    "   \n"
   ]
  },
  {
   "cell_type": "markdown",
   "metadata": {},
   "source": [
    "# ***Assignment***"
   ]
  },
  {
   "cell_type": "markdown",
   "metadata": {},
   "source": [
    "She _____has visited____ (visit) her grandparents this week.  \n",
    "They ___have finished_______ (finish) their project on time.  \n",
    "I ___has seen_____ (see) that movie three times already.  \n",
    "He ___hasn't called_____ (not call) me since last Monday.  \n",
    "We ____have lived______ (live) in this city for five years.  "
   ]
  },
  {
   "cell_type": "markdown",
   "metadata": {},
   "source": [
    "# ***Compare***"
   ]
  },
  {
   "cell_type": "markdown",
   "metadata": {},
   "source": [
    "\n",
    "Present Perfect Tense                               Present Perfect Continuous Tense  \n",
    "-> Nhan manh vao KET QUA                            -> Nhan manh vao tinh LIEN TUC  \n",
    ": Nam has visited Phenikaa oasis thrice             : Van has been waiting for Nam 3 hours.  \n",
    ": They have studied English since 2003.             : How long has Nam been sleeping on the ground?  \n"
   ]
  }
 ],
 "metadata": {
  "language_info": {
   "name": "python"
  }
 },
 "nbformat": 4,
 "nbformat_minor": 2
}
