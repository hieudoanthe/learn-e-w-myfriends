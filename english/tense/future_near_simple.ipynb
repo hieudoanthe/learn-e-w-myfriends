{
 "cells": [
  {
   "cell_type": "markdown",
   "metadata": {},
   "source": [
    "# ***The near future***"
   ]
  },
  {
   "cell_type": "markdown",
   "metadata": {},
   "source": [
    "+) S + am/is/are + going to + V + O  \n",
    "\n",
    "-) S + tobe (not) + going to + V  \n",
    "\n",
    "?) Tobe(not) + S + going to + V + O\n",
    "\n",
    "WHQ?) WHQ + Tobe + S + going to + V + O  \n",
    "\n",
    "### Dau Hieu Nhan Biet: \n",
    "1. Dien ta du dinh se lam gi do, mot ke hoach trong tuong lai gan  \n",
    "    Ex: I know that what you are going to say.  \n",
    "        Van is going to get married this year.  \n",
    "2. Dien ta mot dong chuan bi xay ra trong tuong lai gan - du doan co NGUYEN NHAN (CAN CU)\n",
    "    Ex: I think it is going to rain. Look at those clouds!\n",
    "        Van thinks Nam is going to sleep. Look at him tired!\n",
    "3. Next month, next year, 2 weeks later, this year,..."
   ]
  },
  {
   "cell_type": "markdown",
   "metadata": {},
   "source": [
    "# ***The simple future***"
   ]
  },
  {
   "cell_type": "markdown",
   "metadata": {},
   "source": [
    "+) S + shall/will + V + O  \n",
    "\n",
    "-) S + shall/will not + V + O  \n",
    "\n",
    "?) Shall/will + S + V + O  \n",
    "\n",
    "WHQ?) + shall/will + S + V + O?  \n",
    "\n",
    "### Dau Hieu Nhan Biet: \n",
    "1. Dien ta hanh dong xay ra trong tuong lai.  \n",
    "2. Dien ta mot thoi quen hoac la 1 dieu le se xay ra trong tuong lai.  \n",
    "   Ex: These birds will come back next spring.  \n",
    "3. Dien ta mot hanh dong se quyet dinh ngay luc noi.  \n",
    "   Ex: I will enjoy breakfast.  \n",
    "4. Dien ta mot loi de nghi, thinh cau.  \n",
    "   Will we eat out tonight?  \n",
    "5. next month, tomorrow, next ...., soon, as soon as, un til, someday.  \n",
    "   \n"
   ]
  }
 ],
 "metadata": {
  "language_info": {
   "name": "python"
  }
 },
 "nbformat": 4,
 "nbformat_minor": 2
}
