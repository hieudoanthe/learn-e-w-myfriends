{
 "cells": [
  {
   "cell_type": "markdown",
   "metadata": {},
   "source": [
    "# ***Past Perfect Tense***"
   ]
  },
  {
   "cell_type": "markdown",
   "metadata": {},
   "source": [
    "+) S + had + V3  \n",
    "\n",
    "-) S + had + not + V3  \n",
    "\n",
    "?) Had + S + v3?  \n",
    "\n",
    "WHQ?) + had + S + V3  ?\n",
    "\n",
    "\n",
    "### Dau Hieu Nhan Biet:  \n",
    "1. Hanh dong xay ra va da ket thuc truoc 1 hanh dong khac trong qua khu.  \n",
    "   Ex: I met them after they had divorced  \n",
    "2. Nhan manh vao ket qua cua hanh dong.  \n",
    "   Ex: I had been to HaNoi twice by the time I reached 21.  \n",
    "3. De cap den moi lien ket giua 2 hanh dong/ su kien trong qua khu.  \n",
    "   Ex: Van couldn't take the train because Van had forgotten his boarding pass.  \n",
    "        Nam couldn't attend the conference beacause he had not finished his report.\n",
    "4. The hien su that vong ve su viec nao do trong qua khu.  \n",
    "   Ex: Van wish Van hadn't missed the opportunity to see the solar eclipse yesterday.  \n",
    "5. Su dung cho cau dk loai 3: Dien ta mot dieu kien khong co that trong qua khu.  \n",
    "6. Dien ta mot hanh dong xay ra truoc mot thoi diem trong qua khu  \n",
    "   Ex: Nam had never used a tablet before he started his new job.   \n",
    "7. Dien ta 2 hanh dong cung xay ra lien tiep trong qua khu va dung thi QKHT de mo ta hanh dong xay ra truoc.  \n",
    "   Ex: After Nam had finished his homework, Nam went to bed.  \n",
    "\n",
    "   \n"
   ]
  },
  {
   "cell_type": "markdown",
   "metadata": {},
   "source": [
    "# ***Past Perfect Continuous Tense***"
   ]
  },
  {
   "cell_type": "markdown",
   "metadata": {},
   "source": [
    "+)  S + had + been + Ving  \n",
    "\n",
    "-) S + had not + been + Ving  \n",
    "\n",
    "?) Had + S + been + Ving  \n",
    "\n",
    "WHQ?) + had + S + been + Ving  \n",
    "\n",
    "\n",
    "\n",
    "### Dau Hieu Nhan Biet: \n",
    "1. Hanh dong xay ra truoc mot hanh dong khac va tiep dien.  \n",
    "   Ex: I'd been working here for 2 weeks when he promoted. \n",
    "2. Nhan manh vao tinh tiep dien cua hanh dong.  \n",
    "3. De cap den nguyen nhan cua hanh dong trong qua khu.  \n",
    "   Ex: Nam had been learning with his friends all night, so he was tired."
   ]
  },
  {
   "cell_type": "markdown",
   "metadata": {},
   "source": [
    "# ***Compare***"
   ]
  },
  {
   "cell_type": "markdown",
   "metadata": {},
   "source": [
    "QKHT: Hanh dong xay ra va da ket thuc truoc mot hanh dong khac trong qua khu.\n",
    "QKHTTD: Hanh dong xay ra truoc mot hanh dong khc nhung no van tiep tuc tiep dien ke ca khi hanh dong sau da ket thuc hay chua.  "
   ]
  }
 ],
 "metadata": {
  "language_info": {
   "name": "python"
  }
 },
 "nbformat": 4,
 "nbformat_minor": 2
}
