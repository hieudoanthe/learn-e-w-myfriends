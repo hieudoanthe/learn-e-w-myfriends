{
 "cells": [
  {
   "cell_type": "markdown",
   "metadata": {},
   "source": [
    "# ***Past Simple Tense***"
   ]
  },
  {
   "cell_type": "markdown",
   "metadata": {},
   "source": [
    "### ***Tobe*** \n",
    "+) S + was/were + adj/N  \n",
    "\n",
    "Ex: My father was sick last Sunday.  \n",
    "\n",
    "S la so it + WAS \n",
    "S la so nhieu + WERE \n",
    "\n",
    "-) S + was/were + not  + adj/N \n",
    "\n",
    "Ex: Those students were not active last semester. \n",
    "\n",
    "?) Was/were(not) + S + adj/N?  \n",
    "?) WHQuestion) When/ where/ why/ what/ how + was/were + S + (not) + adj/N?  \n",
    "\n",
    "### ***To verb***\n",
    "+) S + V2/_ed  \n",
    "\n",
    "-) S + did + not + V  \n",
    "\n",
    "?) Did(not) + S + V?\n",
    "?) WHQuestion) When/ where/ why/ what/ how + did + S + (not) + adj/N?  \n",
    "\n",
    "### Dau Hieu Nhan Biet: \n",
    "1. Trong cau co: yesterday, in the past, the day before, ago, last, nhung khoang thoi gian da qua trong ngay (today, this moring, this afternoon,...)\n",
    "2. Dien ta nhung hanh dong xay ra va ket thuc hoan toan trong qua khu.\n",
    "3. Dien ta hanh dong lap di lap lai trong qua khu.\n",
    "4. Dien ta 1 hanh dong xen vao mot hanh dong khac dang dien ra trong qua khu.  \n",
    "   Ex: The children were playing football when their mother came back (come back) home.\n",
    "5. Dien ta cac hanh dong xay ra lien tiep trong qua khu.  \n",
    "   Ex: Last week, Van __saw__(see) me, then __cried__(cry) and __yelled__ (yell)so loudly\n",
    "6. Dung trong cau dieu kien loai 2."
   ]
  },
  {
   "cell_type": "markdown",
   "metadata": {},
   "source": [
    "# ***Past Coutinuous Tense***"
   ]
  },
  {
   "cell_type": "markdown",
   "metadata": {},
   "source": [
    "+) S + was/were + V_ing  \n",
    "    Ex: In 2010, we ___were working__(work) in a big town in HaNoi.  \n",
    "        In 2003, Nam __was studying__(study) in a Phenikaa Uni.  \n",
    "\n",
    "-) S + was/were(not) + V_ing  \n",
    "\n",
    "?) Was/Were(not) + S + V_ing?  \n",
    "?) WHQuestion) When/ where/ why/ what/ how + was/were + S + (not) + V_ing?  \n",
    "\n",
    "### Dau Hieu Nhan Biet: \n",
    "1. Trang tu chi thoi gian nhu at, in, yesterday.  \n",
    "    Ex: At 8 am yesterday, Van was teaching in his class.\n",
    "2. At the time, at this time, in the past, last(day, night, week, month, year)  \n",
    "3. Cau truc cau co tu 'while' va mot so truong hop co 'when'.\n",
    "4. Dung de dien ta su viec, hanh dong dien ra o tai mot thoi diem cu the trong qua khu.\n",
    "5. Dien ta 2 hanh dong xay ra tai cung mot thoi diem trong qua khu.  \n",
    "    Ex: He was cooking while his girlfriend was watching TV.\n",
    "6. Dien ta 1 hanh dong trong qua khu nhung bi gian doan hoac chen ngang boi mot hanh dong khac.  \n",
    "    Ex: Van bursted into tears while he was scrolling through the newspaper.\n",
    "7. Dung de noi ve mot hanh dong, hoac su viec lap lai nhieu lan trong qua khu voi y tieu cuc.  \n",
    "    Ex: S + was/were + always + V_ing: Nam was always making noise when they were reading books."
   ]
  },
  {
   "cell_type": "markdown",
   "metadata": {},
   "source": [
    "# ***Assignment***"
   ]
  },
  {
   "cell_type": "markdown",
   "metadata": {},
   "source": [
    "While she (read) __was reading__ a book, the phone (ring) __rang__.  \n",
    "I (walk) __was walking__ to the store when I (see) __saw__ an old friend.  \n",
    "They (have) ___were having__ dinner when the lights (go) __went__ out.  \n",
    "He (drive) __was driving__ home when he (have) __had__ an accident. \n",
    "We (watch) ___was watching__ TV when we (hear) __heard__ a loud noise.  "
   ]
  }
 ],
 "metadata": {
  "language_info": {
   "name": "python"
  }
 },
 "nbformat": 4,
 "nbformat_minor": 2
}
